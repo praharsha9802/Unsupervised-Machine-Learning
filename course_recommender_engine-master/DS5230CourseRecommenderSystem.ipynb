{
 "cells": [
  {
   "cell_type": "markdown",
   "metadata": {},
   "source": [
    "# Course Recommender System\n",
    "## DS5230 Course Project\n",
    "### By: Camellia Debnath, Praharsha Singaraju, Viral Pandey"
   ]
  },
  {
   "cell_type": "code",
   "execution_count": 24,
   "metadata": {},
   "outputs": [
    {
     "name": "stdout",
     "output_type": "stream",
     "text": [
      "The autoreload extension is already loaded. To reload it, use:\n",
      "  %reload_ext autoreload\n"
     ]
    }
   ],
   "source": [
    "%load_ext autoreload\n",
    "%autoreload 2\n",
    "\n",
    "import pandas as pd\n",
    "import numpy as np\n",
    "import matplotlib.pyplot as plt\n",
    "\n",
    "from collections import defaultdict\n",
    "\n",
    "from sklearn.manifold import TSNE\n",
    "\n",
    "#Custom classes\n",
    "from EDA import Eda\n",
    "from VECTORIZE import Vectorize\n",
    "import scrape_neu\n",
    "import text_util"
   ]
  },
  {
   "cell_type": "code",
   "execution_count": 2,
   "metadata": {},
   "outputs": [],
   "source": [
    "indeed_raw = pd.read_csv('data/indeed-dataset-data-scientistanalystengineer/indeed_job_dataset.csv')\n",
    "msds_df = scrape_neu.scrape_neu_catalog('ds')\n",
    "msda_df = scrape_neu.scrape_neu_catalog('da')\n",
    "msde_df = scrape_neu.scrape_neu_catalog('de')"
   ]
  },
  {
   "cell_type": "code",
   "execution_count": 6,
   "metadata": {},
   "outputs": [],
   "source": [
    "clean_indeed_df = indeed_raw.copy()\n",
    "clean_indeed_df['Description'] = clean_indeed_df['Description'].apply(text_util.clean_html_text)\n",
    "clean_indeed_df['Description'] = clean_indeed_df['Description'].apply(text_util.preprocess_text, remove_period=True)"
   ]
  },
  {
   "cell_type": "markdown",
   "metadata": {},
   "source": [
    "### Exploratory Analysis"
   ]
  },
  {
   "cell_type": "code",
   "execution_count": 8,
   "metadata": {},
   "outputs": [
    {
     "data": {
      "text/html": [
       "<div>\n",
       "<style scoped>\n",
       "    .dataframe tbody tr th:only-of-type {\n",
       "        vertical-align: middle;\n",
       "    }\n",
       "\n",
       "    .dataframe tbody tr th {\n",
       "        vertical-align: top;\n",
       "    }\n",
       "\n",
       "    .dataframe thead th {\n",
       "        text-align: right;\n",
       "    }\n",
       "</style>\n",
       "<table border=\"1\" class=\"dataframe\">\n",
       "  <thead>\n",
       "    <tr style=\"text-align: right;\">\n",
       "      <th></th>\n",
       "      <th>Unnamed: 0</th>\n",
       "      <th>Job_Title</th>\n",
       "      <th>Link</th>\n",
       "      <th>Queried_Salary</th>\n",
       "      <th>Job_Type</th>\n",
       "      <th>Skill</th>\n",
       "      <th>No_of_Skills</th>\n",
       "      <th>Company</th>\n",
       "      <th>No_of_Reviews</th>\n",
       "      <th>No_of_Stars</th>\n",
       "      <th>...</th>\n",
       "      <th>MD</th>\n",
       "      <th>DC</th>\n",
       "      <th>NC</th>\n",
       "      <th>Other_states</th>\n",
       "      <th>Consulting and Business Services</th>\n",
       "      <th>Internet and Software</th>\n",
       "      <th>Banks and Financial Services</th>\n",
       "      <th>Health Care</th>\n",
       "      <th>Insurance</th>\n",
       "      <th>Other_industries</th>\n",
       "    </tr>\n",
       "  </thead>\n",
       "  <tbody>\n",
       "    <tr>\n",
       "      <th>0</th>\n",
       "      <td>0</td>\n",
       "      <td>Data Scientist</td>\n",
       "      <td>https://www.indeed.com/rc/clk?jk=6a105f495c36a...</td>\n",
       "      <td>&lt;80000</td>\n",
       "      <td>data_scientist</td>\n",
       "      <td>['SAP', 'SQL']</td>\n",
       "      <td>2</td>\n",
       "      <td>Express Scripts</td>\n",
       "      <td>3301.0</td>\n",
       "      <td>3.3</td>\n",
       "      <td>...</td>\n",
       "      <td>0</td>\n",
       "      <td>0</td>\n",
       "      <td>0</td>\n",
       "      <td>1</td>\n",
       "      <td>0</td>\n",
       "      <td>0</td>\n",
       "      <td>0</td>\n",
       "      <td>1</td>\n",
       "      <td>0</td>\n",
       "      <td>0</td>\n",
       "    </tr>\n",
       "    <tr>\n",
       "      <th>1</th>\n",
       "      <td>1</td>\n",
       "      <td>Data Scientist</td>\n",
       "      <td>https://www.indeed.com/rc/clk?jk=86afd561ea8c6...</td>\n",
       "      <td>&lt;80000</td>\n",
       "      <td>data_scientist</td>\n",
       "      <td>['Machine Learning', 'R', 'SAS', 'SQL', 'Python']</td>\n",
       "      <td>5</td>\n",
       "      <td>Money Mart Financial Services</td>\n",
       "      <td>NaN</td>\n",
       "      <td>NaN</td>\n",
       "      <td>...</td>\n",
       "      <td>0</td>\n",
       "      <td>0</td>\n",
       "      <td>0</td>\n",
       "      <td>0</td>\n",
       "      <td>0</td>\n",
       "      <td>0</td>\n",
       "      <td>0</td>\n",
       "      <td>0</td>\n",
       "      <td>0</td>\n",
       "      <td>0</td>\n",
       "    </tr>\n",
       "    <tr>\n",
       "      <th>2</th>\n",
       "      <td>2</td>\n",
       "      <td>Data Scientist</td>\n",
       "      <td>https://www.indeed.com/rc/clk?jk=e0aad317e6d45...</td>\n",
       "      <td>&lt;80000</td>\n",
       "      <td>data_scientist</td>\n",
       "      <td>['Data Mining', 'Data Management', 'R', 'SAS',...</td>\n",
       "      <td>9</td>\n",
       "      <td>comScore</td>\n",
       "      <td>62.0</td>\n",
       "      <td>3.5</td>\n",
       "      <td>...</td>\n",
       "      <td>0</td>\n",
       "      <td>0</td>\n",
       "      <td>0</td>\n",
       "      <td>1</td>\n",
       "      <td>0</td>\n",
       "      <td>0</td>\n",
       "      <td>0</td>\n",
       "      <td>0</td>\n",
       "      <td>0</td>\n",
       "      <td>0</td>\n",
       "    </tr>\n",
       "    <tr>\n",
       "      <th>3</th>\n",
       "      <td>3</td>\n",
       "      <td>Graduate Studies Program - Data Scientist</td>\n",
       "      <td>https://www.indeed.com/rc/clk?jk=1cfdd9e391a63...</td>\n",
       "      <td>&lt;80000</td>\n",
       "      <td>data_scientist</td>\n",
       "      <td>['Certified Internal Auditor']</td>\n",
       "      <td>1</td>\n",
       "      <td>Central Intelligence Agency</td>\n",
       "      <td>158.0</td>\n",
       "      <td>4.3</td>\n",
       "      <td>...</td>\n",
       "      <td>0</td>\n",
       "      <td>1</td>\n",
       "      <td>0</td>\n",
       "      <td>0</td>\n",
       "      <td>0</td>\n",
       "      <td>0</td>\n",
       "      <td>0</td>\n",
       "      <td>0</td>\n",
       "      <td>0</td>\n",
       "      <td>1</td>\n",
       "    </tr>\n",
       "    <tr>\n",
       "      <th>4</th>\n",
       "      <td>4</td>\n",
       "      <td>Data Scientist I</td>\n",
       "      <td>https://www.indeed.com/rc/clk?jk=fec647775a21e...</td>\n",
       "      <td>&lt;80000</td>\n",
       "      <td>data_scientist</td>\n",
       "      <td>['Statistical Software', 'Time Management', 'R...</td>\n",
       "      <td>7</td>\n",
       "      <td>Federal Reserve Bank of Dallas</td>\n",
       "      <td>495.0</td>\n",
       "      <td>4.1</td>\n",
       "      <td>...</td>\n",
       "      <td>0</td>\n",
       "      <td>0</td>\n",
       "      <td>0</td>\n",
       "      <td>0</td>\n",
       "      <td>0</td>\n",
       "      <td>0</td>\n",
       "      <td>1</td>\n",
       "      <td>0</td>\n",
       "      <td>0</td>\n",
       "      <td>0</td>\n",
       "    </tr>\n",
       "  </tbody>\n",
       "</table>\n",
       "<p>5 rows × 43 columns</p>\n",
       "</div>"
      ],
      "text/plain": [
       "   Unnamed: 0                                  Job_Title  \\\n",
       "0           0                             Data Scientist   \n",
       "1           1                             Data Scientist   \n",
       "2           2                             Data Scientist   \n",
       "3           3  Graduate Studies Program - Data Scientist   \n",
       "4           4                           Data Scientist I   \n",
       "\n",
       "                                                Link Queried_Salary  \\\n",
       "0  https://www.indeed.com/rc/clk?jk=6a105f495c36a...         <80000   \n",
       "1  https://www.indeed.com/rc/clk?jk=86afd561ea8c6...         <80000   \n",
       "2  https://www.indeed.com/rc/clk?jk=e0aad317e6d45...         <80000   \n",
       "3  https://www.indeed.com/rc/clk?jk=1cfdd9e391a63...         <80000   \n",
       "4  https://www.indeed.com/rc/clk?jk=fec647775a21e...         <80000   \n",
       "\n",
       "         Job_Type                                              Skill  \\\n",
       "0  data_scientist                                     ['SAP', 'SQL']   \n",
       "1  data_scientist  ['Machine Learning', 'R', 'SAS', 'SQL', 'Python']   \n",
       "2  data_scientist  ['Data Mining', 'Data Management', 'R', 'SAS',...   \n",
       "3  data_scientist                     ['Certified Internal Auditor']   \n",
       "4  data_scientist  ['Statistical Software', 'Time Management', 'R...   \n",
       "\n",
       "   No_of_Skills                         Company  No_of_Reviews  No_of_Stars  \\\n",
       "0             2                 Express Scripts         3301.0          3.3   \n",
       "1             5   Money Mart Financial Services            NaN          NaN   \n",
       "2             9                        comScore           62.0          3.5   \n",
       "3             1     Central Intelligence Agency          158.0          4.3   \n",
       "4             7  Federal Reserve Bank of Dallas          495.0          4.1   \n",
       "\n",
       "   ...  MD DC NC Other_states Consulting and Business Services  \\\n",
       "0  ...   0  0  0            1                                0   \n",
       "1  ...   0  0  0            0                                0   \n",
       "2  ...   0  0  0            1                                0   \n",
       "3  ...   0  1  0            0                                0   \n",
       "4  ...   0  0  0            0                                0   \n",
       "\n",
       "  Internet and Software  Banks and Financial Services  Health Care  Insurance  \\\n",
       "0                     0                             0            1          0   \n",
       "1                     0                             0            0          0   \n",
       "2                     0                             0            0          0   \n",
       "3                     0                             0            0          0   \n",
       "4                     0                             1            0          0   \n",
       "\n",
       "   Other_industries  \n",
       "0                 0  \n",
       "1                 0  \n",
       "2                 0  \n",
       "3                 1  \n",
       "4                 0  \n",
       "\n",
       "[5 rows x 43 columns]"
      ]
     },
     "execution_count": 8,
     "metadata": {},
     "output_type": "execute_result"
    }
   ],
   "source": [
    "indeed_raw.head()"
   ]
  },
  {
   "cell_type": "markdown",
   "metadata": {},
   "source": [
    "### Confirming the number of distinct job titles in the dataset"
   ]
  },
  {
   "cell_type": "code",
   "execution_count": 9,
   "metadata": {},
   "outputs": [
    {
     "name": "stdout",
     "output_type": "stream",
     "text": [
      "number of distinct job titles:  2314\n",
      "['Data Scientist' 'Graduate Studies Program - Data Scientist'\n",
      " 'Data Scientist I' ...\n",
      " 'Executive Director- Architect: Data Engineering & Hybrid Clo...'\n",
      " 'Senior Manager, Data Engineering (hands on)'\n",
      " 'Principal Visual Analytics / Big Data Engineer (TS/SCI w/ Po...']\n"
     ]
    }
   ],
   "source": [
    "np.set_printoptions(threshold=100)\n",
    "print('number of distinct job titles: ',len(indeed_raw.Job_Title.unique()))\n",
    "print(indeed_raw.Job_Title.unique())"
   ]
  },
  {
   "cell_type": "markdown",
   "metadata": {},
   "source": [
    "#### We can see that there are total of 2314 distinct job descriptions. This seems to be a big number if we look at the job descriptions, they mostly have some descriptions related to the domain. Hence, we can identify top bi-grams and tri-grams to get an idea about the most frequent job types."
   ]
  },
  {
   "cell_type": "code",
   "execution_count": 10,
   "metadata": {},
   "outputs": [],
   "source": [
    "eda = Eda()\n",
    "freq_dict = defaultdict(int)\n",
    "for row in indeed_raw.Job_Title:\n",
    "    words = eda.generate_ngrams(row, n_gram=2)\n",
    "    for word in words:\n",
    "        freq_dict[word] += 1\n",
    "bi_gram= pd.DataFrame(sorted(freq_dict.items(), key=lambda x: x[1])[::-1])\n",
    "bi_gram.columns = [\"word\", \"wordcount\"]\n",
    "bi_gram = bi_gram.head(10)\n",
    "\n",
    "freq_dict = defaultdict(int)\n",
    "for row in indeed_raw.Job_Title:\n",
    "    words = eda.generate_ngrams(row, n_gram=3)\n",
    "    for word in words:\n",
    "        freq_dict[word] += 1\n",
    "tri_gram = pd.DataFrame(sorted(freq_dict.items(), key=lambda x: x[1])[::-1])\n",
    "tri_gram.columns = [\"word\", \"wordcount\"]\n",
    "tri_gram = tri_gram.head(10)\n"
   ]
  },
  {
   "cell_type": "code",
   "execution_count": 11,
   "metadata": {},
   "outputs": [
    {
     "data": {
      "text/plain": [
       "Text(0.5, 0, 'Word count')"
      ]
     },
     "execution_count": 11,
     "metadata": {},
     "output_type": "execute_result"
    },
    {
     "data": {
      "image/png": "[encoded data removed]",
      "text/plain": [
       "<Figure size 1080x504 with 2 Axes>"
      ]
     },
     "metadata": {
      "needs_background": "light"
     },
     "output_type": "display_data"
    }
   ],
   "source": [
    "fig = plt.figure(figsize=(15, 7))\n",
    "plt.tight_layout()\n",
    "\n",
    "plt.subplot(1,2,1)\n",
    "plt.barh(bi_gram.word, bi_gram.wordcount, color='skyblue')\n",
    "plt.grid()\n",
    "plt.title('Top 10 Job Title bi-grams')\n",
    "plt.xlabel('Word count')\n",
    "plt.subplots_adjust(wspace = 0.8)\n",
    "\n",
    "plt.subplot(1,2,2)\n",
    "plt.barh(tri_gram.word, tri_gram.wordcount, color='coral')\n",
    "plt.grid()\n",
    "plt.title('Top 10 Job Title tri-grams')\n",
    "plt.xlabel('Word count')"
   ]
  },
  {
   "cell_type": "markdown",
   "metadata": {},
   "source": [
    "#### Now let us do an n-gram analysis of the skills."
   ]
  },
  {
   "cell_type": "code",
   "execution_count": 12,
   "metadata": {},
   "outputs": [
    {
     "data": {
      "text/plain": [
       "Text(0.5, 0, 'Word count')"
      ]
     },
     "execution_count": 12,
     "metadata": {},
     "output_type": "execute_result"
    },
    {
     "data": {
      "image/png": "[encoded data removed]",
      "text/plain": [
       "<Figure size 1080x504 with 2 Axes>"
      ]
     },
     "metadata": {
      "needs_background": "light"
     },
     "output_type": "display_data"
    }
   ],
   "source": [
    "eda = Eda()\n",
    "freq_dict = defaultdict(int)\n",
    "for row in indeed_raw.Skill:\n",
    "    words = eda.generate_ngrams(row, n_gram=2)\n",
    "    if words:\n",
    "        for word in words:\n",
    "            freq_dict[word] += 1\n",
    "bi_gram= pd.DataFrame(sorted(freq_dict.items(), key=lambda x: x[1])[::-1])\n",
    "bi_gram.columns = [\"word\", \"wordcount\"]\n",
    "bi_gram = bi_gram.head(10)\n",
    "\n",
    "freq_dict = defaultdict(int)\n",
    "for row in indeed_raw.Skill:\n",
    "    words = eda.generate_ngrams(row, n_gram=3)\n",
    "    if words:\n",
    "        for word in words:\n",
    "            freq_dict[word] += 1\n",
    "tri_gram = pd.DataFrame(sorted(freq_dict.items(), key=lambda x: x[1])[::-1])\n",
    "tri_gram.columns = [\"word\", \"wordcount\"]\n",
    "tri_gram = tri_gram.head(10)\n",
    "\n",
    "\n",
    "fig = plt.figure(figsize=(15, 7))\n",
    "plt.tight_layout()\n",
    "\n",
    "plt.subplot(1,2,1)\n",
    "plt.barh(bi_gram.word, bi_gram.wordcount, color='skyblue')\n",
    "plt.grid()\n",
    "plt.title('Top 10 Job Skill bi-grams')\n",
    "plt.xlabel('Word count')\n",
    "plt.subplots_adjust(wspace = 0.8)\n",
    "\n",
    "plt.subplot(1,2,2)\n",
    "plt.barh(tri_gram.word, tri_gram.wordcount, color='coral')\n",
    "plt.grid()\n",
    "plt.title('Top 10 Job Skill tri-grams')\n",
    "plt.xlabel('Word count')"
   ]
  },
  {
   "cell_type": "markdown",
   "metadata": {},
   "source": [
    "### Finding how many job descriptions prefer PHD"
   ]
  },
  {
   "cell_type": "code",
   "execution_count": 13,
   "metadata": {},
   "outputs": [],
   "source": [
    "from collections import Counter\n",
    "\n",
    "dict1={}\n",
    "for s in clean_indeed_df.Description:\n",
    "    if s:\n",
    "        for eachStr in s:\n",
    "            if eachStr.lower() in dict1.keys():\n",
    "                count = dict1[eachStr]\n",
    "                count = count + 1\n",
    "                dict1[eachStr.lower()] = count\n",
    "            else:\n",
    "                dict1[eachStr.lower()] = 1\n",
    "\n"
   ]
  },
  {
   "cell_type": "code",
   "execution_count": 14,
   "metadata": {},
   "outputs": [
    {
     "name": "stdout",
     "output_type": "stream",
     "text": [
      "5715\n"
     ]
    }
   ],
   "source": [
    "print(len(indeed_raw.Skill))"
   ]
  },
  {
   "cell_type": "code",
   "execution_count": 15,
   "metadata": {},
   "outputs": [
    {
     "name": "stdout",
     "output_type": "stream",
     "text": [
      "fashionphd :  1\n",
      "graphdb :  16\n",
      "orphd :  2\n",
      "phd :  793\n",
      "phdproject :  1\n",
      "plusphd :  1\n",
      "pysparkphd :  2\n"
     ]
    }
   ],
   "source": [
    "for i in sorted (dict1.keys()) : \n",
    "    if 'phd' in i:\n",
    "        print(i,': ',dict1[i]) \n"
   ]
  },
  {
   "cell_type": "code",
   "execution_count": 16,
   "metadata": {},
   "outputs": [
    {
     "name": "stdout",
     "output_type": "stream",
     "text": [
      "793\n"
     ]
    }
   ],
   "source": [
    "print(dict1['phd'])"
   ]
  },
  {
   "cell_type": "markdown",
   "metadata": {},
   "source": [
    "# Vectorize the data"
   ]
  },
  {
   "cell_type": "markdown",
   "metadata": {},
   "source": [
    "### Word2Vec"
   ]
  },
  {
   "cell_type": "code",
   "execution_count": 21,
   "metadata": {},
   "outputs": [],
   "source": [
    "vector = Vectorize()\n",
    "vectorized_description = vector.w2v(clean_indeed_df, 'Description')"
   ]
  },
  {
   "cell_type": "code",
   "execution_count": 22,
   "metadata": {},
   "outputs": [
    {
     "data": {
      "text/plain": [
       "(12878, 100)"
      ]
     },
     "execution_count": 22,
     "metadata": {},
     "output_type": "execute_result"
    }
   ],
   "source": [
    "vectorized_description.shape"
   ]
  },
  {
   "cell_type": "markdown",
   "metadata": {},
   "source": [
    "### t-SNE"
   ]
  },
  {
   "cell_type": "code",
   "execution_count": 25,
   "metadata": {},
   "outputs": [],
   "source": [
    "tsneFrame = pd.DataFrame(TSNE(n_components=2, perplexity = 30).fit_transform(vectorized_description))"
   ]
  }
 ],
 "metadata": {
  "kernelspec": {
   "display_name": "Python 3",
   "language": "python",
   "name": "python3"
  },
  "language_info": {
   "codemirror_mode": {
    "name": "ipython",
    "version": 3
   },
   "file_extension": ".py",
   "mimetype": "text/x-python",
   "name": "python",
   "nbconvert_exporter": "python",
   "pygments_lexer": "ipython3",
   "version": "3.7.5"
  }
 },
 "nbformat": 4,
 "nbformat_minor": 4
}
